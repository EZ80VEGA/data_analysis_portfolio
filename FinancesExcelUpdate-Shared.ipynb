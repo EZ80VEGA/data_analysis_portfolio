{
 "cells": [
  {
   "cell_type": "markdown",
   "id": "41dc48cd",
   "metadata": {},
   "source": [
    "### Libraries needed and installed"
   ]
  },
  {
   "cell_type": "code",
   "execution_count": 1,
   "id": "16ac654c",
   "metadata": {
    "scrolled": false
   },
   "outputs": [],
   "source": [
    "#pip install pandas\n",
    "#pip install pandas openpyxl"
   ]
  },
  {
   "cell_type": "markdown",
   "id": "8eaa80bd",
   "metadata": {},
   "source": [
    "### Used to Reference"
   ]
  },
  {
   "cell_type": "code",
   "execution_count": 2,
   "id": "ce96e09b",
   "metadata": {},
   "outputs": [],
   "source": [
    "#Categories: \n",
    " #\"Batman\"\n",
    " #\"Clothing\"\n",
    " #\"Credit Card Payment\"\n",
    " #\"Food\"\n",
    " #\"Fun\"\n",
    " #\"Health\"\n",
    " #\"Home\"\n",
    " #\"Other\"\n",
    " #\"Rent\"\n",
    " #\"Salary\"\n",
    " #\"Technology\"\n",
    " #\"Transportation\""
   ]
  },
  {
   "cell_type": "markdown",
   "id": "82b8f993",
   "metadata": {},
   "source": [
    "### Needed to Run "
   ]
  },
  {
   "cell_type": "code",
   "execution_count": 3,
   "id": "b031b9ef",
   "metadata": {},
   "outputs": [],
   "source": [
    "import pandas as pd\n",
    "import openpyxl\n",
    "import os"
   ]
  },
  {
   "cell_type": "markdown",
   "id": "bc96a398",
   "metadata": {},
   "source": [
    "### Exporting Only Selected Columns Into Excel WB"
   ]
  },
  {
   "cell_type": "code",
   "execution_count": 4,
   "id": "829e7692",
   "metadata": {},
   "outputs": [
    {
     "name": "stderr",
     "output_type": "stream",
     "text": [
      "C:\\Users\\ezequ\\AppData\\Local\\Temp\\ipykernel_5644\\463391706.py:35: FutureWarning: Setting the `book` attribute is not part of the public API, usage can give unexpected or corrupted results and will be removed in a future version\n",
      "  excel_writer.book = excel_book\n",
      "C:\\Users\\ezequ\\AppData\\Local\\Temp\\ipykernel_5644\\463391706.py:60: FutureWarning: The default value of regex will change from True to False in a future version.\n",
      "  df['Source'] = df['Source'].str.replace('.csv', '') #This removes the .csv from the file source\n"
     ]
    },
    {
     "name": "stdout",
     "output_type": "stream",
     "text": [
      "Importing data from file: Chase Checkings.csv\n",
      "Data from file 'Chase Checkings.csv' imported successfully.\n"
     ]
    },
    {
     "name": "stderr",
     "output_type": "stream",
     "text": [
      "C:\\Users\\ezequ\\AppData\\Local\\Temp\\ipykernel_5644\\463391706.py:35: FutureWarning: Setting the `book` attribute is not part of the public API, usage can give unexpected or corrupted results and will be removed in a future version\n",
      "  excel_writer.book = excel_book\n",
      "C:\\Users\\ezequ\\AppData\\Local\\Temp\\ipykernel_5644\\463391706.py:60: FutureWarning: The default value of regex will change from True to False in a future version.\n",
      "  df['Source'] = df['Source'].str.replace('.csv', '') #This removes the .csv from the file source\n"
     ]
    },
    {
     "name": "stdout",
     "output_type": "stream",
     "text": [
      "Importing data from file: Chase Amazon Credit Card.csv\n",
      "Data from file 'Chase Amazon Credit Card.csv' imported successfully.\n"
     ]
    },
    {
     "name": "stderr",
     "output_type": "stream",
     "text": [
      "C:\\Users\\ezequ\\AppData\\Local\\Temp\\ipykernel_5644\\463391706.py:35: FutureWarning: Setting the `book` attribute is not part of the public API, usage can give unexpected or corrupted results and will be removed in a future version\n",
      "  excel_writer.book = excel_book\n",
      "C:\\Users\\ezequ\\AppData\\Local\\Temp\\ipykernel_5644\\463391706.py:60: FutureWarning: The default value of regex will change from True to False in a future version.\n",
      "  df['Source'] = df['Source'].str.replace('.csv', '') #This removes the .csv from the file source\n"
     ]
    },
    {
     "name": "stdout",
     "output_type": "stream",
     "text": [
      "Importing data from file: Discover It.csv\n",
      "Data from file 'Discover It.csv' imported successfully.\n"
     ]
    },
    {
     "name": "stderr",
     "output_type": "stream",
     "text": [
      "C:\\Users\\ezequ\\AppData\\Local\\Temp\\ipykernel_5644\\463391706.py:35: FutureWarning: Setting the `book` attribute is not part of the public API, usage can give unexpected or corrupted results and will be removed in a future version\n",
      "  excel_writer.book = excel_book\n",
      "C:\\Users\\ezequ\\AppData\\Local\\Temp\\ipykernel_5644\\463391706.py:60: FutureWarning: The default value of regex will change from True to False in a future version.\n",
      "  df['Source'] = df['Source'].str.replace('.csv', '') #This removes the .csv from the file source\n"
     ]
    },
    {
     "name": "stdout",
     "output_type": "stream",
     "text": [
      "Importing data from file: WF Checkings.csv\n",
      "Data from file 'WF Checkings.csv' imported successfully.\n"
     ]
    },
    {
     "name": "stderr",
     "output_type": "stream",
     "text": [
      "C:\\Users\\ezequ\\AppData\\Local\\Temp\\ipykernel_5644\\463391706.py:35: FutureWarning: Setting the `book` attribute is not part of the public API, usage can give unexpected or corrupted results and will be removed in a future version\n",
      "  excel_writer.book = excel_book\n",
      "C:\\Users\\ezequ\\AppData\\Local\\Temp\\ipykernel_5644\\463391706.py:60: FutureWarning: The default value of regex will change from True to False in a future version.\n",
      "  df['Source'] = df['Source'].str.replace('.csv', '') #This removes the .csv from the file source\n"
     ]
    },
    {
     "name": "stdout",
     "output_type": "stream",
     "text": [
      "Importing data from file: WF Platinum.csv\n",
      "Data from file 'WF Platinum.csv' imported successfully.\n"
     ]
    },
    {
     "name": "stderr",
     "output_type": "stream",
     "text": [
      "C:\\Users\\ezequ\\AppData\\Local\\Temp\\ipykernel_5644\\463391706.py:35: FutureWarning: Setting the `book` attribute is not part of the public API, usage can give unexpected or corrupted results and will be removed in a future version\n",
      "  excel_writer.book = excel_book\n",
      "C:\\Users\\ezequ\\AppData\\Local\\Temp\\ipykernel_5644\\463391706.py:60: FutureWarning: The default value of regex will change from True to False in a future version.\n",
      "  df['Source'] = df['Source'].str.replace('.csv', '') #This removes the .csv from the file source\n"
     ]
    },
    {
     "name": "stdout",
     "output_type": "stream",
     "text": [
      "Importing data from file: Capital One Platinum.csv\n",
      "Data from file 'Capital One Platinum.csv' imported successfully.\n"
     ]
    },
    {
     "name": "stderr",
     "output_type": "stream",
     "text": [
      "C:\\Users\\ezequ\\AppData\\Local\\Temp\\ipykernel_5644\\463391706.py:35: FutureWarning: Setting the `book` attribute is not part of the public API, usage can give unexpected or corrupted results and will be removed in a future version\n",
      "  excel_writer.book = excel_book\n",
      "C:\\Users\\ezequ\\AppData\\Local\\Temp\\ipykernel_5644\\463391706.py:60: FutureWarning: The default value of regex will change from True to False in a future version.\n",
      "  df['Source'] = df['Source'].str.replace('.csv', '') #This removes the .csv from the file source\n"
     ]
    },
    {
     "name": "stdout",
     "output_type": "stream",
     "text": [
      "Importing data from file: Capital One Savor One.csv\n",
      "Data from file 'Capital One Savor One.csv' imported successfully.\n"
     ]
    },
    {
     "name": "stderr",
     "output_type": "stream",
     "text": [
      "C:\\Users\\ezequ\\AppData\\Local\\Temp\\ipykernel_5644\\463391706.py:35: FutureWarning: Setting the `book` attribute is not part of the public API, usage can give unexpected or corrupted results and will be removed in a future version\n",
      "  excel_writer.book = excel_book\n",
      "C:\\Users\\ezequ\\AppData\\Local\\Temp\\ipykernel_5644\\463391706.py:60: FutureWarning: The default value of regex will change from True to False in a future version.\n",
      "  df['Source'] = df['Source'].str.replace('.csv', '') #This removes the .csv from the file source\n"
     ]
    },
    {
     "name": "stdout",
     "output_type": "stream",
     "text": [
      "Importing data from file: Capital One Venture.csv\n",
      "Data from file 'Capital One Venture.csv' imported successfully.\n",
      "Selected columns from all CSV files have been imported into the 'Data' sheet of 'C:\\Users\\ezequ\\OneDrive\\Documents\\Python Scripts\\Budgetbook_Automated.xlsx'.\n"
     ]
    }
   ],
   "source": [
    "#List of CSV files to import data from\n",
    "csv_file_info = [\n",
    "    {\"file_name\": \"Chase Checkings.csv\", \"date_column\": \"Posting Date\", \"description_column\": \"Description\", \"amount_column\": \"Amount\"},    \n",
    "    {\"file_name\": \"Chase Amazon Credit Card.csv\", \"date_column\": \"Transaction Date\", \"description_column\": \"Description\",\"amount_column\":\"Amount\"},\n",
    "    {\"file_name\": \"Discover It.csv\", \"date_column\": \"Transaction Date\", \"description_column\": \"Description\",\"amount_column\":\"Amount\"},\n",
    "    {\"file_name\": \"WF Checkings.csv\", \"date_column\": \"Transaction Date\", \"description_column\": \"Description\", \"amount_column\": \"Amount\"},\n",
    "    {\"file_name\": \"WF Platinum.csv\", \"date_column\": \"Transaction Date\", \"description_column\": \"Description\",\"amount_column\":\"Amount\"},\n",
    "    {\"file_name\": \"Capital One Platinum.csv\", \"date_column\": \"Transaction Date\", \"description_column\": \"Description\",\"amount_column\":\"Amount\"},\n",
    "    {\"file_name\": \"Capital One Savor One.csv\", \"date_column\": \"Transaction Date\", \"description_column\": \"Description\",\"amount_column\":\"Amount\"},\n",
    "    {\"file_name\": \"Capital One Venture.csv\", \"date_column\": \"Transaction Date\", \"description_column\": \"Description\",\"amount_column\":\"Amount\"}\n",
    "]\n",
    "\n",
    "#The directory to this python file\n",
    "script_directory = os.path.dirname(os.path.abspath(__file__)) if '__file__' in locals() else os.getcwd()\n",
    "\n",
    "#Path to the folder containing the CSV files above\n",
    "folder_path = os.path.join(script_directory, 'To Year Transactions/')\n",
    "\n",
    "#Path to the existing Excel workbook within the same directory \n",
    "excel_file_path = os.path.join(script_directory, 'Budgetbook_Automated.xlsx')\n",
    "\n",
    "#Run through the list of CSV files and import data with dynamic column selection\n",
    "for csv_info in csv_file_info:\n",
    "    csv_file_name = csv_info[\"file_name\"]\n",
    "    date_column_name = csv_info[\"date_column\"]\n",
    "    description_column_name = csv_info[\"description_column\"]\n",
    "    amount_column_name = csv_info[\"amount_column\"]\n",
    "    \n",
    "    #Load the existing Excel workbook for each file.\n",
    "    excel_book = openpyxl.load_workbook(excel_file_path)\n",
    "    \n",
    "    #Create an Excel writer object for appending/adding data to the existing workbook.\n",
    "    with pd.ExcelWriter(excel_file_path, engine='openpyxl', mode='a', if_sheet_exists='replace') as excel_writer:\n",
    "        excel_writer.book = excel_book\n",
    "\n",
    "        #Indicating which sheet to choose if it exists. If it doesn't exist it creates it.\n",
    "        if 'Data' in excel_writer.book.sheetnames:\n",
    "            excel_sheet = excel_writer.book['Data']\n",
    "        else:\n",
    "            excel_sheet = excel_writer.book.create_sheet(title='Data')\n",
    "\n",
    "        \n",
    "        try:\n",
    "            #Constructing the complete path to the CSV files.\n",
    "            csv_file_path = os.path.join(folder_path, csv_file_name)\n",
    "            \n",
    "            #Reading the CSV files into a pandas DataFrame.\n",
    "            df = pd.read_csv(csv_file_path)\n",
    "\n",
    "            #Creating a new column that refers to the file name of the CSV files\n",
    "            df['Source'] = csv_file_name\n",
    "        \n",
    "\n",
    "            \n",
    "        #These are the columns being input into the Excel Workbook\n",
    "            #Extract month and year from 'Transaction Date' and add them as separate columns.\n",
    "            df['Month'] = pd.to_datetime(df[date_column_name]).dt.strftime('%B')  #%B gives full month name from the 'Transaction Date'\n",
    "            df['Year'] = pd.to_datetime(df[date_column_name]).dt.year #Gives the year from the 'Transaction Date'\n",
    "            df['Source'] = df['Source'].str.replace('.csv', '') #This removes the .csv from the file source\n",
    "            df['Category'] = 'Other'#For the 'Category' column created 'Other' will be the autofilled unless otherwise indicated below\n",
    "            df['Expected'] = 'No' #For the 'Expected' column created, 'No' will be the autofilled data unless otherwise indicated below\n",
    "            \n",
    "#Assigning Categories to Transactions            \n",
    "            #df.loc[df['Description'].str.contains(\"Original1|Original2|Original3\"), 'Category'] = \"Batman\"\n",
    "            df.loc[df['Description'].str.contains(\"C PAYROLL|SALT LAKE CITY PAYROLL|ZERO MOTORCYCLES DIRECT DEP\"), 'Category'] = \"Salary\"\n",
    "            df.loc[df['Description'].str.contains(\"FID BKG|INTERNATIONAL PURCHASE TRANSACTION|Apple Cash TRANSFER|PLATINUM CARD XXXXXXXXXXXX|IRS USATAXPYMT|EVERYDAY CHECKING XXXXXX|DISCOVER E-PAYMENT|APPLE CASH SENT|ONLINE TRANSFER FROM JUNGO J CHECKING|ONLINE TRANSFER TO JUNGO J CHECKING|WELLS FARGO Fee Refund|PURCHASE WITH CASH BACK|ATM WITHDRAWAL AUTHORIZED|ZELLE TO|CHASE CREDIT CRD EPAY|CHASE CREDIT CRD AUTOPAY|INTEREST|APPLECARD GSBANK PAYMENT|CAPITAL ONE MOBILE PMT|CAPITAL ONE CRCARDPMT|ONLINE PAYMENT|Credit One Bank Payment|KLARNA|UPLIFT|AFFIRM|AFTERPAY\"), 'Category'] = \"Banking\"\n",
    "            df.loc[df['Description'].str.contains(\"CITY PET CLUB|MA & PAWS|HEALTHY PETS|PetSmart|Feed|Leash\"), 'Category'] = \"Batman\"\n",
    "            df.loc[df['Description'].str.contains(\"Ever Forward|Nike\"), 'Category'] = \"Clothing\"\n",
    "            df.loc[df['Description'].str.contains(\"SAFEWAY|FOOD MAXX|GROCERY OUTL|COSTCO WHSE|RANCHO MARKETS|SMITHS|SCOTTS VALLEY MARKET|DOMINO'S|POPEYES|MCDONALD'S|SUBWAY|STARBUCKS|IN N OUT|DOORDASH|SUNNY HONEY|CHIPOTLE|REDWOOD SANDWICH|DUTCHBROSLL|KITCHEN\"), 'Category'] = \"Food\"            \n",
    "            df.loc[df['Description'].str.contains(\"Cinema|Soundwell|SKY SLC\"), 'Category'] = \"Fun\"\n",
    "            df.loc[df['Description'].str.contains(\"VASAFIT|EOS FITNESS|GOLDS GYM|KENKO|Bare Perfo|Gym\"), 'Category'] = \"Health\"\n",
    "            df.loc[df['Description'].str.contains(\"REMITLY|GoFundMe|WASH LAUNDRY KIOSK|TARGET|BEST BUY|Wal-Mart|LAUNDRY DAY|ROSS STORE|INTERNATIONAL|INTL\"), 'Category'] = \"Other\"\n",
    "            df.loc[df['Description'].str.contains(\"SPOTIFY|GODADDY|AVAST Software|Apple Services|Disney|Fubotv|Microsoft|hostinger\"), 'Category'] = \"Subscription\"\n",
    "            df.loc[df['Description'].str.contains(\"PILOT|ARCO|COSTCO GAS|CHEVRON|SHELL|QUIK STOP|MAVERIK|7-ELEVEN|PARKING|LIM*RIDE|Uber|FCP Euro|AUTOZONE|Spin\"), 'Category'] = \"Transportation\"\n",
    "            \n",
    "            #Debugging print statements\n",
    "            print(f\"Importing data from file: {csv_file_name}\") #Will be printed once the data is imported into the excel workbook one csv file at a time\n",
    "\n",
    "            #The DataFrame to the 'Data' sheet in the Excel workbook.\n",
    "            df_filtered = df[[date_column_name, description_column_name, amount_column_name,'Month','Year', 'Source', 'Category','Expected']]  #Selects specific columns\n",
    "            df_filtered.columns = ['Date', 'Description', 'Amount','Month','Year', 'Source', 'Category','Expected']  #Renames columns for consistency\n",
    "\n",
    "            #Calculates the row where the new data will be inerted\n",
    "            if 'Data' in excel_writer.book.sheetnames:\n",
    "                existing_data = pd.read_excel(excel_file_path, sheet_name='Data')\n",
    "                start_row = existing_data.shape[0] + 2  #Add 2 for header and 0-based index offset\n",
    "            else:\n",
    "                start_row = 1  #Starts at the first row if no data exists yet\n",
    "\n",
    "            #This is the order for the data frame to be imported - custom how you want it\n",
    "            for idx, row in df_filtered.iterrows():\n",
    "                excel_sheet.cell(row=start_row + idx, column=1, value=row['Date'])\n",
    "                excel_sheet.cell(row=start_row + idx, column=2, value=row['Description'].upper()) #Will convert to uppercase\n",
    "                excel_sheet.cell(row=start_row + idx, column=3, value=row['Amount'])\n",
    "                excel_sheet.cell(row=start_row + idx, column=4, value=row['Month'])\n",
    "                excel_sheet.cell(row=start_row + idx, column=5, value=row['Year'])\n",
    "                excel_sheet.cell(row=start_row + idx, column=6, value=row['Category'])\n",
    "                excel_sheet.cell(row=start_row + idx, column=7, value=row['Expected'])\n",
    "                excel_sheet.cell(row=start_row + idx, column=8, value=row['Source'])\n",
    "\n",
    "            print(f\"Data from file '{csv_file_name}' imported successfully.\")\n",
    "        except Exception as e:\n",
    "            print(f\"Error importing data from file '{csv_file_name}': {str(e)}\") #Will be printed if the data is not imported to the excel workbook\n",
    "\n",
    "print(f\"Selected columns from all CSV files have been imported into the 'Data' sheet of '{excel_file_path}'.\") #Will be printed once all the data indicated above is imported to the excel workbok\n"
   ]
  }
 ],
 "metadata": {
  "kernelspec": {
   "display_name": "Python 3 (ipykernel)",
   "language": "python",
   "name": "python3"
  },
  "language_info": {
   "codemirror_mode": {
    "name": "ipython",
    "version": 3
   },
   "file_extension": ".py",
   "mimetype": "text/x-python",
   "name": "python",
   "nbconvert_exporter": "python",
   "pygments_lexer": "ipython3",
   "version": "3.10.9"
  }
 },
 "nbformat": 4,
 "nbformat_minor": 5
}
